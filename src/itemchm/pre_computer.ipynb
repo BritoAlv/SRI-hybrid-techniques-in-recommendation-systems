{
 "cells": [
  {
   "cell_type": "code",
   "execution_count": 1,
   "metadata": {},
   "outputs": [],
   "source": [
    "from sqlalchemy import create_engine, select, update\n",
    "from sqlalchemy.orm import Session, joinedload\n",
    "from vaderSentiment.vaderSentiment import SentimentIntensityAnalyzer\n",
    "\n",
    "import pickle as pk\n",
    "import api.entities as db\n",
    "from itemchm.hybrid_recommender import HybridRecommender\n",
    "from itemchm.entities_repr import User, Book\n"
   ]
  },
  {
   "cell_type": "code",
   "execution_count": 2,
   "metadata": {},
   "outputs": [],
   "source": [
    "# Create engine\n",
    "ENGINE = create_engine(\"sqlite:///../../bookshelf.db\", echo=True)"
   ]
  },
  {
   "cell_type": "code",
   "execution_count": 3,
   "metadata": {},
   "outputs": [],
   "source": [
    "def sentiment_analysis(text : str):\n",
    "    # Create a SentimentIntensityAnalyzer object\n",
    "    sia = SentimentIntensityAnalyzer()\n",
    "\n",
    "    # Perform sentiment analysis\n",
    "    sentiment_scores = sia.polarity_scores(text)\n",
    "    \n",
    "    if sentiment_scores['compound'] < -0.1:\n",
    "        return 1\n",
    "    elif sentiment_scores['compound'] < 0.1:\n",
    "        return 4\n",
    "    else:\n",
    "        return 6\n",
    "        \n",
    "def overall_rate(user_book : db.UserBook) -> float:\n",
    "    RATING_WEIGHT = 4\n",
    "    COMMENT_WEIGHT = 3\n",
    "    SHARED_WEIGHT = 2\n",
    "    READ_RATIO_WEIGHT = 1\n",
    "\n",
    "    if user_book.rating == None:\n",
    "        rating_value = 4\n",
    "    else:\n",
    "        rating_value = user_book.rating + 1\n",
    "    \n",
    "    if user_book.comment == None:\n",
    "        comment_value = 4\n",
    "    else:\n",
    "        comment_value = sentiment_analysis(user_book.comment)\n",
    "    \n",
    "    read_ration_value = user_book.readRatio * 5 + 1\n",
    "\n",
    "    if user_book.shared <= 0:\n",
    "        shared_value = 1\n",
    "    elif user_book.shared < 3:\n",
    "        shared_value = 2\n",
    "    elif user_book.shared < 6:\n",
    "        shared_value = 3\n",
    "    elif user_book.shared < 8:\n",
    "        shared_value = 4\n",
    "    elif user_book.shared < 12:\n",
    "        shared_value = 5\n",
    "    else:\n",
    "        shared_value = 6\n",
    "\n",
    "    return (RATING_WEIGHT * rating_value + COMMENT_WEIGHT * comment_value + SHARED_WEIGHT * shared_value + READ_RATIO_WEIGHT * read_ration_value) / (RATING_WEIGHT + COMMENT_WEIGHT + SHARED_WEIGHT + READ_RATIO_WEIGHT)"
   ]
  },
  {
   "cell_type": "code",
   "execution_count": 4,
   "metadata": {},
   "outputs": [
    {
     "name": "stdout",
     "output_type": "stream",
     "text": [
      "2024-08-27 21:04:51,775 INFO sqlalchemy.engine.Engine BEGIN (implicit)\n",
      "2024-08-27 21:04:51,780 INFO sqlalchemy.engine.Engine SELECT \"Users\".id AS \"Users_id\", \"Users\".name AS \"Users_name\", \"Users\".email AS \"Users_email\", \"Users\".features AS \"Users_features\" \n",
      "FROM \"Users\"\n",
      "2024-08-27 21:04:51,781 INFO sqlalchemy.engine.Engine [generated in 0.00120s] ()\n",
      "2024-08-27 21:04:51,800 INFO sqlalchemy.engine.Engine SELECT \"Books\".id AS \"Books_id\", \"Books\".name AS \"Books_name\", \"Books\".author AS \"Books_author\", \"Books\".language AS \"Books_language\", \"Books\".year AS \"Books_year\", \"BookGenre_1\".\"booksId\" AS \"BookGenre_1_booksId\", \"BookGenre_1\".\"genresName\" AS \"BookGenre_1_genresName\" \n",
      "FROM \"Books\" LEFT OUTER JOIN \"BookGenre\" AS \"BookGenre_1\" ON \"Books\".id = \"BookGenre_1\".\"booksId\"\n",
      "2024-08-27 21:04:51,801 INFO sqlalchemy.engine.Engine [generated in 0.00118s] ()\n",
      "2024-08-27 21:04:51,893 INFO sqlalchemy.engine.Engine SELECT \"UserBooks\".id AS \"UserBooks_id\", \"UserBooks\".\"readRatio\" AS \"UserBooks_readRatio\", \"UserBooks\".rating AS \"UserBooks_rating\", \"UserBooks\".comment AS \"UserBooks_comment\", \"UserBooks\".shared AS \"UserBooks_shared\", \"UserBooks\".\"bookId\" AS \"UserBooks_bookId\", \"UserBooks\".\"userId\" AS \"UserBooks_userId\" \n",
      "FROM \"UserBooks\"\n",
      "2024-08-27 21:04:51,894 INFO sqlalchemy.engine.Engine [generated in 0.00091s] ()\n",
      "2024-08-27 21:04:53,425 INFO sqlalchemy.engine.Engine ROLLBACK\n"
     ]
    }
   ],
   "source": [
    "with Session(ENGINE) as session:\n",
    "    db_users = session.query(db.User).all()\n",
    "    db_books = session.query(db.Book).options(joinedload(db.Book.genres)).all()\n",
    "    db_user_books = session.query(db.UserBook).all()"
   ]
  },
  {
   "cell_type": "code",
   "execution_count": 5,
   "metadata": {},
   "outputs": [],
   "source": [
    "users_dict : dict[int, User] = {}\n",
    "\n",
    "for db_user in db_users:\n",
    "    user = User(db_user.id, db_user.name, {})\n",
    "    users_dict[db_user.id] = user\n",
    "\n",
    "books : list[Book] = []\n",
    "\n",
    "for db_book in db_books:\n",
    "    genres = [book_genre.genresName for book_genre in db_book.genres]\n",
    "    book = Book(db_book.id, db_book.name, db_book.author, db_book.year, db_book.language, genres)\n",
    "    books.append(book)"
   ]
  },
  {
   "cell_type": "code",
   "execution_count": 6,
   "metadata": {},
   "outputs": [],
   "source": [
    "for user_book in db_user_books:\n",
    "    rating = overall_rate(user_book)\n",
    "    user = users_dict[user_book.userId]\n",
    "    user.ratings[user_book.bookId] = rating\n",
    "\n",
    "# Required Input\n",
    "users = list(users_dict.values())"
   ]
  },
  {
   "cell_type": "code",
   "execution_count": 7,
   "metadata": {},
   "outputs": [],
   "source": [
    "with open(\"books.pk\", \"wb\") as f:\n",
    "    books_pickle = pk.dump(books, f)\n",
    "with open(\"users.pk\", \"wb\") as u:\n",
    "    users_pickle = pk.dump(users, u)\n",
    "\n",
    "with open(\"books.pk\", \"rb\") as f:\n",
    "    books_pk = pk.load(f)\n",
    "\n",
    "with open(\"users.pk\", \"rb\") as u:\n",
    "    users_pk = pk.load(u)\n"
   ]
  },
  {
   "cell_type": "code",
   "execution_count": 8,
   "metadata": {},
   "outputs": [],
   "source": [
    "with open(\"books.pk\", \"rb\") as f:\n",
    "    books_pk = pk.load(f)\n",
    "\n",
    "with open(\"users.pk\", \"rb\") as u:\n",
    "    users_pk = pk.load(u)"
   ]
  },
  {
   "cell_type": "code",
   "execution_count": 9,
   "metadata": {},
   "outputs": [
    {
     "name": "stdout",
     "output_type": "stream",
     "text": [
      "Start Mixing Matrix\n",
      "Start building Item Rating Similitud\n",
      "Start building Item Rating Matrix\n",
      "End building Item Rating Matrix\n",
      "Start building Averages Book Array\n",
      "End building Averages Book Array\n",
      "End building Item Rating Similitud\n",
      "Start building Group Rating Similitud\n",
      "Start building Group Rating Matrix\n",
      "Start 1 iteration of K-Means\n",
      "End 1 iteration of K-Means\n",
      "Start 2 iteration of K-Means\n",
      "End 2 iteration of K-Means\n",
      "Start 3 iteration of K-Means\n",
      "End 3 iteration of K-Means\n",
      "Start 4 iteration of K-Means\n",
      "End 4 iteration of K-Means\n",
      "Start 5 iteration of K-Means\n",
      "End 5 iteration of K-Means\n",
      "Start 6 iteration of K-Means\n",
      "End 6 iteration of K-Means\n",
      "Start 7 iteration of K-Means\n",
      "End 7 iteration of K-Means\n",
      "Start 8 iteration of K-Means\n",
      "End 8 iteration of K-Means\n",
      "Start 9 iteration of K-Means\n",
      "End 9 iteration of K-Means\n",
      "Start 10 iteration of K-Means\n",
      "End 10 iteration of K-Means\n",
      "End building Group Rating Matrix\n",
      "Start building Averages User Array\n",
      "End building Averages User Array\n",
      "End building Group Rating Similitud\n",
      "End Mixing Matrix\n"
     ]
    }
   ],
   "source": [
    "system = HybridRecommender(books_pk, users_pk)\n",
    "system.compute_data()"
   ]
  },
  {
   "cell_type": "code",
   "execution_count": 10,
   "metadata": {},
   "outputs": [],
   "source": [
    "with open(\"system.pk\", \"wb\") as s:\n",
    "    sy = pk.dump(system, s)"
   ]
  }
 ],
 "metadata": {
  "kernelspec": {
   "display_name": "Python 3",
   "language": "python",
   "name": "python3"
  },
  "language_info": {
   "codemirror_mode": {
    "name": "ipython",
    "version": 3
   },
   "file_extension": ".py",
   "mimetype": "text/x-python",
   "name": "python",
   "nbconvert_exporter": "python",
   "pygments_lexer": "ipython3",
   "version": "3.12.3"
  }
 },
 "nbformat": 4,
 "nbformat_minor": 2
}
