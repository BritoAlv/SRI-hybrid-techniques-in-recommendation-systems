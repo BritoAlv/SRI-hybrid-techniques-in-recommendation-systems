{
 "cells": [
  {
   "cell_type": "code",
   "execution_count": 1,
   "metadata": {},
   "outputs": [],
   "source": [
    "from sqlalchemy import create_engine\n",
    "from sqlalchemy.orm import Session, joinedload\n",
    "from itemchm.utils import overall_rate\n",
    "\n",
    "import pickle as pk\n",
    "import itemchm.persistence.entities as db\n",
    "from itemchm.hybrid_recommender import HybridRecommender\n",
    "from itemchm.entities_repr import User, Book\n"
   ]
  },
  {
   "cell_type": "code",
   "execution_count": 2,
   "metadata": {},
   "outputs": [],
   "source": [
    "# Create engine\n",
    "ENGINE = create_engine(\"sqlite:///../../bookshelf.db\", echo=True)"
   ]
  },
  {
   "cell_type": "code",
   "execution_count": 3,
   "metadata": {},
   "outputs": [
    {
     "name": "stdout",
     "output_type": "stream",
     "text": [
      "2024-08-28 17:06:46,524 INFO sqlalchemy.engine.Engine BEGIN (implicit)\n",
      "2024-08-28 17:06:46,526 INFO sqlalchemy.engine.Engine SELECT \"Users\".id AS \"Users_id\", \"Users\".name AS \"Users_name\", \"Users\".email AS \"Users_email\", \"Users\".features AS \"Users_features\" \n",
      "FROM \"Users\"\n",
      "2024-08-28 17:06:46,527 INFO sqlalchemy.engine.Engine [generated in 0.00089s] ()\n",
      "2024-08-28 17:06:46,535 INFO sqlalchemy.engine.Engine SELECT \"Books\".id AS \"Books_id\", \"Books\".name AS \"Books_name\", \"Books\".author AS \"Books_author\", \"Books\".language AS \"Books_language\", \"Books\".year AS \"Books_year\", \"BookGenre_1\".\"booksId\" AS \"BookGenre_1_booksId\", \"BookGenre_1\".\"genresName\" AS \"BookGenre_1_genresName\" \n",
      "FROM \"Books\" LEFT OUTER JOIN \"BookGenre\" AS \"BookGenre_1\" ON \"Books\".id = \"BookGenre_1\".\"booksId\"\n",
      "2024-08-28 17:06:46,536 INFO sqlalchemy.engine.Engine [generated in 0.00078s] ()\n",
      "2024-08-28 17:06:47,092 INFO sqlalchemy.engine.Engine SELECT \"UserBooks\".id AS \"UserBooks_id\", \"UserBooks\".\"readRatio\" AS \"UserBooks_readRatio\", \"UserBooks\".rating AS \"UserBooks_rating\", \"UserBooks\".comment AS \"UserBooks_comment\", \"UserBooks\".shared AS \"UserBooks_shared\", \"UserBooks\".\"bookId\" AS \"UserBooks_bookId\", \"UserBooks\".\"userId\" AS \"UserBooks_userId\" \n",
      "FROM \"UserBooks\"\n",
      "2024-08-28 17:06:47,093 INFO sqlalchemy.engine.Engine [generated in 0.00097s] ()\n",
      "2024-08-28 17:06:48,645 INFO sqlalchemy.engine.Engine ROLLBACK\n"
     ]
    }
   ],
   "source": [
    "with Session(ENGINE) as session:\n",
    "    db_users = session.query(db.User).all()\n",
    "    db_books = session.query(db.Book).options(joinedload(db.Book.genres)).all()\n",
    "    db_user_books = session.query(db.UserBook).all()"
   ]
  },
  {
   "cell_type": "code",
   "execution_count": 4,
   "metadata": {},
   "outputs": [],
   "source": [
    "users_dict : dict[int, User] = {}\n",
    "\n",
    "for db_user in db_users:\n",
    "    user = User(db_user.id, db_user.name, {})\n",
    "    users_dict[db_user.id] = user\n",
    "\n",
    "books : list[Book] = []\n",
    "\n",
    "for db_book in db_books:\n",
    "    genres = [book_genre.genresName for book_genre in db_book.genres]\n",
    "    book = Book(db_book.id, db_book.name, db_book.author, db_book.year, db_book.language, genres)\n",
    "    books.append(book)"
   ]
  },
  {
   "cell_type": "code",
   "execution_count": 5,
   "metadata": {},
   "outputs": [],
   "source": [
    "for user_book in db_user_books:\n",
    "    rating = overall_rate(user_book)\n",
    "    user = users_dict[user_book.userId]\n",
    "    user.ratings[user_book.bookId] = rating\n",
    "\n",
    "# Required Input\n",
    "users = list(users_dict.values())"
   ]
  },
  {
   "cell_type": "code",
   "execution_count": 9,
   "metadata": {},
   "outputs": [],
   "source": [
    "with open(\"books.pkl\", \"wb\") as f:\n",
    "    books_pickle = pk.dump(books, f)\n",
    "with open(\"users.pkl\", \"wb\") as u:\n",
    "    users_pickle = pk.dump(users, u)\n",
    "\n",
    "with open(\"books.pkl\", \"rb\") as f:\n",
    "    books_pk = pk.load(f)\n",
    "\n",
    "with open(\"users.pkl\", \"rb\") as u:\n",
    "    users_pk = pk.load(u)\n"
   ]
  },
  {
   "cell_type": "code",
   "execution_count": 11,
   "metadata": {},
   "outputs": [],
   "source": [
    "with open(\"books.pkl\", \"rb\") as f:\n",
    "    books_pk = pk.load(f)\n",
    "\n",
    "with open(\"users.pkl\", \"rb\") as u:\n",
    "    users_pk = pk.load(u)"
   ]
  },
  {
   "cell_type": "code",
   "execution_count": 13,
   "metadata": {},
   "outputs": [
    {
     "name": "stdout",
     "output_type": "stream",
     "text": [
      "Start Mixing Matrix\n",
      "Start building Item Rating Similitud\n",
      "Start building Item Rating Matrix\n"
     ]
    },
    {
     "ename": "KeyboardInterrupt",
     "evalue": "",
     "output_type": "error",
     "traceback": [
      "\u001b[0;31m---------------------------------------------------------------------------\u001b[0m",
      "\u001b[0;31mKeyboardInterrupt\u001b[0m                         Traceback (most recent call last)",
      "Cell \u001b[0;32mIn[13], line 2\u001b[0m\n\u001b[1;32m      1\u001b[0m system \u001b[38;5;241m=\u001b[39m HybridRecommender(books_pk, users_pk)\n\u001b[0;32m----> 2\u001b[0m \u001b[43msystem\u001b[49m\u001b[38;5;241;43m.\u001b[39;49m\u001b[43mcompute_data\u001b[49m\u001b[43m(\u001b[49m\u001b[43m)\u001b[49m\n",
      "File \u001b[0;32m~/Core/Computer Science/Projects/IRS/SRI-hybrid-techniques-in-recommendation-systems/src/itemchm/hybrid_recommender.py:177\u001b[0m, in \u001b[0;36mHybridRecommender.compute_data\u001b[0;34m(self)\u001b[0m\n\u001b[1;32m    175\u001b[0m \u001b[38;5;28;01mdef\u001b[39;00m \u001b[38;5;21mcompute_data\u001b[39m(\u001b[38;5;28mself\u001b[39m):\n\u001b[1;32m    176\u001b[0m     \u001b[38;5;28;01mif\u001b[39;00m \u001b[38;5;28mself\u001b[39m\u001b[38;5;241m.\u001b[39msimilitud_matrix \u001b[38;5;129;01mis\u001b[39;00m \u001b[38;5;28;01mNone\u001b[39;00m:\n\u001b[0;32m--> 177\u001b[0m         \u001b[38;5;28;43mself\u001b[39;49m\u001b[38;5;241;43m.\u001b[39;49m\u001b[43mbuild_similitud_matrix\u001b[49m\u001b[43m(\u001b[49m\u001b[43m)\u001b[49m\n",
      "File \u001b[0;32m~/Core/Computer Science/Projects/IRS/SRI-hybrid-techniques-in-recommendation-systems/src/itemchm/hybrid_recommender.py:157\u001b[0m, in \u001b[0;36mHybridRecommender.build_similitud_matrix\u001b[0;34m(self, linear_coef)\u001b[0m\n\u001b[1;32m    155\u001b[0m \u001b[38;5;28mprint\u001b[39m(\u001b[38;5;124m\"\u001b[39m\u001b[38;5;124mStart Mixing Matrix\u001b[39m\u001b[38;5;124m\"\u001b[39m)\n\u001b[1;32m    156\u001b[0m \u001b[38;5;28;01mif\u001b[39;00m \u001b[38;5;28mself\u001b[39m\u001b[38;5;241m.\u001b[39mitem_rating_similitud \u001b[38;5;129;01mis\u001b[39;00m \u001b[38;5;28;01mNone\u001b[39;00m:\n\u001b[0;32m--> 157\u001b[0m     \u001b[38;5;28;43mself\u001b[39;49m\u001b[38;5;241;43m.\u001b[39;49m\u001b[43mbuild_item_rating_similitud\u001b[49m\u001b[43m(\u001b[49m\u001b[43m)\u001b[49m\n\u001b[1;32m    158\u001b[0m \u001b[38;5;28;01mif\u001b[39;00m \u001b[38;5;28mself\u001b[39m\u001b[38;5;241m.\u001b[39mgroup_rating_similitud_book \u001b[38;5;129;01mis\u001b[39;00m \u001b[38;5;28;01mNone\u001b[39;00m:\n\u001b[1;32m    159\u001b[0m     \u001b[38;5;28mself\u001b[39m\u001b[38;5;241m.\u001b[39mbuild_group_rating_similitud()\n",
      "File \u001b[0;32m~/Core/Computer Science/Projects/IRS/SRI-hybrid-techniques-in-recommendation-systems/src/itemchm/hybrid_recommender.py:76\u001b[0m, in \u001b[0;36mHybridRecommender.build_item_rating_similitud\u001b[0;34m(self)\u001b[0m\n\u001b[1;32m     74\u001b[0m \u001b[38;5;28mprint\u001b[39m(\u001b[38;5;124m\"\u001b[39m\u001b[38;5;124mStart building Item Rating Similitud\u001b[39m\u001b[38;5;124m\"\u001b[39m)\n\u001b[1;32m     75\u001b[0m \u001b[38;5;28;01mif\u001b[39;00m \u001b[38;5;28mself\u001b[39m\u001b[38;5;241m.\u001b[39mitem_rating \u001b[38;5;129;01mis\u001b[39;00m \u001b[38;5;28;01mNone\u001b[39;00m:\n\u001b[0;32m---> 76\u001b[0m     \u001b[38;5;28;43mself\u001b[39;49m\u001b[38;5;241;43m.\u001b[39;49m\u001b[43mbuild_item_rating\u001b[49m\u001b[43m(\u001b[49m\u001b[43m)\u001b[49m\n\u001b[1;32m     77\u001b[0m \u001b[38;5;28;01mif\u001b[39;00m \u001b[38;5;28mself\u001b[39m\u001b[38;5;241m.\u001b[39maverages_book \u001b[38;5;129;01mis\u001b[39;00m \u001b[38;5;28;01mNone\u001b[39;00m:\n\u001b[1;32m     78\u001b[0m     \u001b[38;5;28mself\u001b[39m\u001b[38;5;241m.\u001b[39mbuild_averages_book()\n",
      "File \u001b[0;32m~/Core/Computer Science/Projects/IRS/SRI-hybrid-techniques-in-recommendation-systems/src/itemchm/hybrid_recommender.py:29\u001b[0m, in \u001b[0;36mHybridRecommender.build_item_rating\u001b[0;34m(self)\u001b[0m\n\u001b[1;32m     27\u001b[0m     \u001b[38;5;28;01mfor\u001b[39;00m user \u001b[38;5;129;01min\u001b[39;00m \u001b[38;5;28mself\u001b[39m\u001b[38;5;241m.\u001b[39musers:\n\u001b[1;32m     28\u001b[0m         \u001b[38;5;28;01mif\u001b[39;00m book\u001b[38;5;241m.\u001b[39mid \u001b[38;5;129;01min\u001b[39;00m user\u001b[38;5;241m.\u001b[39mratings:\n\u001b[0;32m---> 29\u001b[0m             \u001b[43mresult\u001b[49m\u001b[43m[\u001b[49m\u001b[43mbook\u001b[49m\u001b[43m]\u001b[49m\u001b[43m[\u001b[49m\u001b[43muser\u001b[49m\u001b[43m]\u001b[49m \u001b[38;5;241m=\u001b[39m user\u001b[38;5;241m.\u001b[39mratings[book\u001b[38;5;241m.\u001b[39mid]\n\u001b[1;32m     30\u001b[0m \u001b[38;5;28mself\u001b[39m\u001b[38;5;241m.\u001b[39mitem_rating \u001b[38;5;241m=\u001b[39m result\n\u001b[1;32m     31\u001b[0m \u001b[38;5;28mprint\u001b[39m(\u001b[38;5;124m\"\u001b[39m\u001b[38;5;124mEnd building Item Rating Matrix\u001b[39m\u001b[38;5;124m\"\u001b[39m)\n",
      "File \u001b[0;32m~/Core/Computer Science/Projects/IRS/SRI-hybrid-techniques-in-recommendation-systems/src/itemchm/entities_repr.py:51\u001b[0m, in \u001b[0;36mUser.__hash__\u001b[0;34m(self)\u001b[0m\n\u001b[1;32m     50\u001b[0m \u001b[38;5;28;01mdef\u001b[39;00m \u001b[38;5;21m__hash__\u001b[39m(\u001b[38;5;28mself\u001b[39m) \u001b[38;5;241m-\u001b[39m\u001b[38;5;241m>\u001b[39m \u001b[38;5;28mint\u001b[39m:\n\u001b[0;32m---> 51\u001b[0m     \u001b[38;5;28;01mreturn\u001b[39;00m \u001b[38;5;28mself\u001b[39m\u001b[38;5;241m.\u001b[39mname\u001b[38;5;241m.\u001b[39m\u001b[38;5;21m__hash__\u001b[39m() \u001b[38;5;241m+\u001b[39m \u001b[38;5;28;43mself\u001b[39;49m\u001b[38;5;241;43m.\u001b[39;49m\u001b[43mid\u001b[49m\u001b[38;5;241;43m.\u001b[39;49m\u001b[38;5;21;43m__hash__\u001b[39;49m\u001b[43m(\u001b[49m\u001b[43m)\u001b[49m\n",
      "\u001b[0;31mKeyboardInterrupt\u001b[0m: "
     ]
    }
   ],
   "source": [
    "system = HybridRecommender(books_pk, users_pk)\n",
    "system.compute_data()"
   ]
  },
  {
   "cell_type": "code",
   "execution_count": 10,
   "metadata": {},
   "outputs": [],
   "source": [
    "with open(\"system.pk\", \"wb\") as s:\n",
    "    sy = pk.dump(system, s)"
   ]
  }
 ],
 "metadata": {
  "kernelspec": {
   "display_name": "Python 3",
   "language": "python",
   "name": "python3"
  },
  "language_info": {
   "codemirror_mode": {
    "name": "ipython",
    "version": 3
   },
   "file_extension": ".py",
   "mimetype": "text/x-python",
   "name": "python",
   "nbconvert_exporter": "python",
   "pygments_lexer": "ipython3",
   "version": "3.10.12"
  }
 },
 "nbformat": 4,
 "nbformat_minor": 2
}
