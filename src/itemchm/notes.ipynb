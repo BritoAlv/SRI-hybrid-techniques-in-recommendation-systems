{
 "cells": [
  {
   "cell_type": "code",
   "execution_count": null,
   "metadata": {},
   "outputs": [],
   "source": [
    "from sqlalchemy import create_engine, select, update\n",
    "from sqlalchemy.orm import Session, joinedload\n",
    "from vaderSentiment.vaderSentiment import SentimentIntensityAnalyzer\n",
    "\n",
    "import api.entities as db\n",
    "from itemchm.entities_repr import User, Book\n",
    "\n",
    "# Create engine\n",
    "ENGINE = create_engine(\"sqlite:///../../bookshelf.db\", echo=True)"
   ]
  },
  {
   "cell_type": "code",
   "execution_count": null,
   "metadata": {},
   "outputs": [],
   "source": [
    "def sentiment_analysis(text : str):\n",
    "    # Create a SentimentIntensityAnalyzer object\n",
    "    sia = SentimentIntensityAnalyzer()\n",
    "\n",
    "    # Perform sentiment analysis\n",
    "    sentiment_scores = sia.polarity_scores(text)\n",
    "    \n",
    "    if sentiment_scores['compound'] < -0.1:\n",
    "        return 1\n",
    "    elif sentiment_scores['compound'] < 0.1:\n",
    "        return 4\n",
    "    else:\n",
    "        return 6\n",
    "        \n",
    "def overall_rate(user_book : db.UserBook) -> float:\n",
    "    RATING_WEIGHT = 4\n",
    "    COMMENT_WEIGHT = 3\n",
    "    SHARED_WEIGHT = 2\n",
    "    READ_RATIO_WEIGHT = 1\n",
    "\n",
    "    if user_book.rating == None:\n",
    "        rating_value = 4\n",
    "    else:\n",
    "        rating_value = user_book.rating + 1\n",
    "    \n",
    "    if user_book.comment == None:\n",
    "        comment_value = 4\n",
    "    else:\n",
    "        comment_value = sentiment_analysis(user_book.comment)\n",
    "    \n",
    "    read_ration_value = user_book.readRatio * 5 + 1\n",
    "\n",
    "    if user_book.shared <= 0:\n",
    "        shared_value = 1\n",
    "    elif user_book.shared < 3:\n",
    "        shared_value = 2\n",
    "    elif user_book.shared < 6:\n",
    "        shared_value = 3\n",
    "    elif user_book.shared < 8:\n",
    "        shared_value = 4\n",
    "    elif user_book.shared < 12:\n",
    "        shared_value = 5\n",
    "    else:\n",
    "        shared_value = 6\n",
    "\n",
    "    return (RATING_WEIGHT * rating_value + COMMENT_WEIGHT * comment_value + SHARED_WEIGHT * shared_value + READ_RATIO_WEIGHT * read_ration_value) / (RATING_WEIGHT + COMMENT_WEIGHT + SHARED_WEIGHT + READ_RATIO_WEIGHT)"
   ]
  },
  {
   "cell_type": "code",
   "execution_count": null,
   "metadata": {},
   "outputs": [],
   "source": [
    "with Session(ENGINE) as session:\n",
    "    db_users = session.query(db.User).all()\n",
    "    db_books = session.query(db.Book).options(joinedload(db.Book.genres)).all()\n",
    "    db_user_books = session.query(db.UserBook).all()"
   ]
  },
  {
   "cell_type": "code",
   "execution_count": null,
   "metadata": {},
   "outputs": [],
   "source": [
    "users_dict : dict[int, User] = {}\n",
    "\n",
    "for db_user in db_users:\n",
    "    user = User(db_user.id, db_user.name, {})\n",
    "    users_dict[db_user.id] = user\n",
    "\n",
    "books : list[Book] = []\n",
    "\n",
    "for db_book in db_books:\n",
    "    genres = [book_genre.genresName for book_genre in db_book.genres]\n",
    "    book = Book(db_book.id, db_book.name, db_book.author, db_book.year, db_book.language, genres)\n",
    "    books.append(book)"
   ]
  },
  {
   "cell_type": "code",
   "execution_count": null,
   "metadata": {},
   "outputs": [],
   "source": [
    "# Required Input\n",
    "users = users_dict.values()\n",
    "books"
   ]
  },
  {
   "cell_type": "code",
   "execution_count": null,
   "metadata": {},
   "outputs": [],
   "source": [
    "from itemchm.hybrid_recommender import HybridRecommender\n",
    "\n",
    "\n",
    "system = HybridRecommender(books, users)\n",
    "\n",
    "selected_user = User(1241241241, \"BritoAlv\", { 4 : 5})\n",
    "\n",
    "result = system.recommend(selected_user, 5)\n",
    "\n",
    "for book in result:\n",
    "    print(book)\n",
    "\n",
    "print(\"\")\n",
    "print(selected_user)"
   ]
  }
 ],
 "metadata": {
  "kernelspec": {
   "display_name": "Python 3",
   "language": "python",
   "name": "python3"
  },
  "language_info": {
   "codemirror_mode": {
    "name": "ipython",
    "version": 3
   },
   "file_extension": ".py",
   "mimetype": "text/x-python",
   "name": "python",
   "nbconvert_exporter": "python",
   "pygments_lexer": "ipython3",
   "version": "3.10.12"
  }
 },
 "nbformat": 4,
 "nbformat_minor": 2
}
